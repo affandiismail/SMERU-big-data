{
 "cells": [
  {
   "cell_type": "code",
   "execution_count": 1,
   "metadata": {},
   "outputs": [],
   "source": [
    "import re\n",
    "import requests\n",
    "import pandas as pd\n",
    "from bs4 import BeautifulSoup"
   ]
  },
  {
   "cell_type": "code",
   "execution_count": 53,
   "metadata": {},
   "outputs": [
    {
     "data": {
      "text/html": [
       "<div>\n",
       "<style scoped>\n",
       "    .dataframe tbody tr th:only-of-type {\n",
       "        vertical-align: middle;\n",
       "    }\n",
       "\n",
       "    .dataframe tbody tr th {\n",
       "        vertical-align: top;\n",
       "    }\n",
       "\n",
       "    .dataframe thead th {\n",
       "        text-align: right;\n",
       "    }\n",
       "</style>\n",
       "<table border=\"1\" class=\"dataframe\">\n",
       "  <thead>\n",
       "    <tr style=\"text-align: right;\">\n",
       "      <th></th>\n",
       "      <th>prov</th>\n",
       "      <th>kode_prov</th>\n",
       "      <th>kab</th>\n",
       "      <th>kode_kab</th>\n",
       "      <th>kec</th>\n",
       "      <th>kode_kec</th>\n",
       "    </tr>\n",
       "  </thead>\n",
       "  <tbody>\n",
       "    <tr>\n",
       "      <th>0</th>\n",
       "      <td>Prov. Jawa Timur</td>\n",
       "      <td>050000</td>\n",
       "      <td>Kota Surabaya</td>\n",
       "      <td>056000</td>\n",
       "      <td>Kec. Tambaksari</td>\n",
       "      <td>056020</td>\n",
       "    </tr>\n",
       "    <tr>\n",
       "      <th>1</th>\n",
       "      <td>Prov. Jawa Timur</td>\n",
       "      <td>050000</td>\n",
       "      <td>Kota Surabaya</td>\n",
       "      <td>056000</td>\n",
       "      <td>Kec. Wonokromo</td>\n",
       "      <td>056011</td>\n",
       "    </tr>\n",
       "    <tr>\n",
       "      <th>2</th>\n",
       "      <td>Prov. Jawa Timur</td>\n",
       "      <td>050000</td>\n",
       "      <td>Kota Surabaya</td>\n",
       "      <td>056000</td>\n",
       "      <td>Kec. Sawahan</td>\n",
       "      <td>056017</td>\n",
       "    </tr>\n",
       "  </tbody>\n",
       "</table>\n",
       "</div>"
      ],
      "text/plain": [
       "               prov kode_prov            kab kode_kab              kec  \\\n",
       "0  Prov. Jawa Timur    050000  Kota Surabaya   056000  Kec. Tambaksari   \n",
       "1  Prov. Jawa Timur    050000  Kota Surabaya   056000   Kec. Wonokromo   \n",
       "2  Prov. Jawa Timur    050000  Kota Surabaya   056000     Kec. Sawahan   \n",
       "\n",
       "  kode_kec  \n",
       "0   056020  \n",
       "1   056011  \n",
       "2   056017  "
      ]
     },
     "execution_count": 53,
     "metadata": {},
     "output_type": "execute_result"
    }
   ],
   "source": [
    "df_wilayah = pd.read_csv('D:\\work\\smeru\\data\\wilayah_dapodik.csv')\n",
    "df_wilayah.kode_prov = '0' + df_wilayah.kode_prov.astype('str')\n",
    "df_wilayah.kode_kab = '0' + df_wilayah.kode_kab.astype('str')\n",
    "df_wilayah.kode_kec = '0' + df_wilayah.kode_kec.astype('str')\n",
    "df_wilayah.head(3)"
   ]
  },
  {
   "cell_type": "code",
   "execution_count": 25,
   "metadata": {},
   "outputs": [],
   "source": [
    "wilayah_sample = df_wilayah.head(3)"
   ]
  },
  {
   "cell_type": "code",
   "execution_count": null,
   "metadata": {},
   "outputs": [],
   "source": [
    "# url = 'https://dapo.kemdikbud.go.id/rekap/progresSP?id_level_wilayah=3&kode_wilayah=056020&semester_id=20222&bentuk_pendidikan_id='\n",
    "data_sekolah = []\n",
    "\n",
    "for i, wil in wilayah_sample.iterrows():\n",
    "    url = f'https://dapo.kemdikbud.go.id/rekap/progresSP?id_level_wilayah=3&kode_wilayah={wil.kode_kec}&semester_id=20222&bentuk_pendidikan_id='\n",
    "    r = requests.get(url)\n",
    "    data_sekolah = r.json()"
   ]
  },
  {
   "cell_type": "code",
   "execution_count": 30,
   "metadata": {},
   "outputs": [],
   "source": [
    "url = f'https://dapo.kemdikbud.go.id/rekap/progresSP?id_level_wilayah=3&kode_wilayah={wilayah_sample.loc[0].kode_kec}&semester_id=20222&bentuk_pendidikan_id=sma'\n",
    "r = requests.get(url)\n",
    "data_sekolah = r.json()"
   ]
  },
  {
   "cell_type": "code",
   "execution_count": 31,
   "metadata": {},
   "outputs": [
    {
     "data": {
      "text/plain": [
       "7"
      ]
     },
     "execution_count": 31,
     "metadata": {},
     "output_type": "execute_result"
    }
   ],
   "source": [
    "len(data_sekolah)"
   ]
  },
  {
   "cell_type": "code",
   "execution_count": 33,
   "metadata": {},
   "outputs": [],
   "source": [
    "url_html = f'https://dapo.kemdikbud.go.id/sekolah/{data_sekolah[0][\"sekolah_id_enkrip\"]}'\n",
    "url_json = f'https://dapo.kemdikbud.go.id/rekap/sekolahDetail?semester_id=20222&sekolah_id={data_sekolah[0][\"sekolah_id_enkrip\"]}'\n",
    "\n",
    "r_html = requests.get(url_html)\n",
    "r_json = requests.get(url_json)"
   ]
  },
  {
   "cell_type": "code",
   "execution_count": 35,
   "metadata": {},
   "outputs": [],
   "source": [
    "json_data = r_json.json()"
   ]
  },
  {
   "cell_type": "code",
   "execution_count": 36,
   "metadata": {},
   "outputs": [],
   "source": [
    "html_soup = BeautifulSoup(r_html.content, 'html.parser')"
   ]
  },
  {
   "cell_type": "code",
   "execution_count": 116,
   "metadata": {},
   "outputs": [],
   "source": [
    "data = {}"
   ]
  },
  {
   "cell_type": "code",
   "execution_count": 117,
   "metadata": {},
   "outputs": [],
   "source": [
    "data['nama'] = html_soup.find('h2', {'class': 'name'}).get_text(strip=True)"
   ]
  },
  {
   "cell_type": "code",
   "execution_count": 118,
   "metadata": {},
   "outputs": [],
   "source": [
    "akreditasi = html_soup.find('div', {'class': 'profile-usermenu'}).find_all('a')[2].get_text(strip=True)\n",
    "data['akreditasi'] = akreditasi.split(':')[1]\n",
    "kurikulum = html_soup.find('div', {'class': 'profile-usermenu'}).find_all('a')[3].get_text(strip=True)\n",
    "data['kurikulum'] = kurikulum.split(':')[1]"
   ]
  },
  {
   "cell_type": "code",
   "execution_count": 119,
   "metadata": {},
   "outputs": [],
   "source": [
    "data['link_sekolah_kita'] = html_soup.find('div', {'class': 'profile-userbuttons'}).find('a')['href']"
   ]
  },
  {
   "cell_type": "code",
   "execution_count": 120,
   "metadata": {},
   "outputs": [],
   "source": [
    "data_utama = html_soup.find_all('div', {'class': 'panel panel-info'})"
   ]
  },
  {
   "cell_type": "code",
   "execution_count": 121,
   "metadata": {},
   "outputs": [],
   "source": [
    "data_identitas = data_utama[0]\n",
    "data_pelengkap = data_utama[1]\n",
    "data_rinci = data_utama[2]\n",
    "data_kontak = data_utama[7]"
   ]
  },
  {
   "cell_type": "code",
   "execution_count": 122,
   "metadata": {},
   "outputs": [],
   "source": [
    "for identitas in data_identitas.find_all('p'):\n",
    "    text = identitas.get_text()\n",
    "    if text.split(':')[1].strip()=='' or text.split(':')[1].strip()=='-':\n",
    "        value = None\n",
    "    else:\n",
    "        value = text.split(':')[1].strip()\n",
    "    data[text.split(':')[0].lower().strip().replace(' ', '_')] = value\n",
    "\n",
    "\n",
    "for pelengkap in data_pelengkap.find_all('p'):\n",
    "    if text.split(':')[1].strip()=='' or text.split(':')[1].strip()=='-':\n",
    "        value = None\n",
    "    else:\n",
    "        value = text.split(':')[1].strip()\n",
    "    data[text.split(':')[0].lower().strip().replace(' ', '_')] = value\n",
    "\n",
    "\n",
    "for rinci in data_rinci.find_all('p'):\n",
    "    if text.split(':')[1].strip()=='' or text.split(':')[1].strip()=='-':\n",
    "        value = None\n",
    "    else:\n",
    "        value = text.split(':')[1].strip()\n",
    "    data[text.split(':')[0].lower().strip().replace(' ', '_')] = value\n",
    "\n",
    "    \n",
    "for kontak in data_kontak.find_all('p'):\n",
    "    if text.split(':')[1].strip()=='' or text.split(':')[1].strip()=='-':\n",
    "        value = None\n",
    "    else:\n",
    "        value = text.split(':')[1].strip()\n",
    "    data[text.split(':')[0].lower().strip().replace(' ', '_')] = value"
   ]
  },
  {
   "cell_type": "code",
   "execution_count": 123,
   "metadata": {},
   "outputs": [
    {
     "data": {
      "text/plain": [
       "{'nama': 'SMAN 4 SURABAYA',\n",
       " 'akreditasi': 'A',\n",
       " 'kurikulum': 'Kurikulum 2013',\n",
       " 'link_sekolah_kita': 'http://sekolah.data.kemdikbud.go.id/index.php/chome/profil/f365cfa6-ff48-4f51-8aeb-b01218566978',\n",
       " 'npsn': '20532247',\n",
       " 'status': 'Negeri',\n",
       " 'bentuk_pendidikan': 'SMA',\n",
       " 'status_kepemilikan': 'Pemerintah Daerah',\n",
       " 'sk_pendirian_sekolah': '632983/65',\n",
       " 'tanggal_sk_pendirian': '1900-01-01',\n",
       " 'sk_izin_operasional': None,\n",
       " 'tanggal_sk_izin_operasional': None}"
      ]
     },
     "execution_count": 123,
     "metadata": {},
     "output_type": "execute_result"
    }
   ],
   "source": [
    "data"
   ]
  },
  {
   "cell_type": "code",
   "execution_count": 126,
   "metadata": {},
   "outputs": [],
   "source": [
    "data = {**data, **json_data}"
   ]
  },
  {
   "attachments": {},
   "cell_type": "markdown",
   "metadata": {},
   "source": [
    "# Ambil detail data di sekolah kita"
   ]
  },
  {
   "cell_type": "code",
   "execution_count": 128,
   "metadata": {},
   "outputs": [
    {
     "data": {
      "text/plain": [
       "'http://sekolah.data.kemdikbud.go.id/index.php/chome/profil/f365cfa6-ff48-4f51-8aeb-b01218566978'"
      ]
     },
     "execution_count": 128,
     "metadata": {},
     "output_type": "execute_result"
    }
   ],
   "source": [
    "data['link_sekolah_kita']"
   ]
  },
  {
   "cell_type": "code",
   "execution_count": 177,
   "metadata": {},
   "outputs": [],
   "source": [
    "data_sekolah_kita = {}"
   ]
  },
  {
   "cell_type": "code",
   "execution_count": 129,
   "metadata": {},
   "outputs": [],
   "source": [
    "r = requests.get(data['link_sekolah_kita'])\n",
    "soup = BeautifulSoup(r.content, 'html.parser')"
   ]
  },
  {
   "cell_type": "code",
   "execution_count": 178,
   "metadata": {},
   "outputs": [],
   "source": [
    "akreditasi = soup.find('div', {'class': 'box-body box-profile'}).find_all('li')[1].get_text(strip=True)\n",
    "data_sekolah_kita['akreditasi'] = akreditasi.split(':')[1].strip()"
   ]
  },
  {
   "cell_type": "code",
   "execution_count": 137,
   "metadata": {},
   "outputs": [],
   "source": [
    "data_utama = soup.find_all('div', {'class': 'col-xs-12 col-md-3 text-left'})"
   ]
  },
  {
   "cell_type": "code",
   "execution_count": 179,
   "metadata": {},
   "outputs": [],
   "source": [
    "data_pendidikan = data_utama[0].get_text(\"~\",strip=True)\n",
    "data_pendidikan = data_pendidikan.split('~')\n",
    "\n",
    "for i in range(len(data_pendidikan)):\n",
    "    if ':' in data_pendidikan[i]:\n",
    "        key = data_pendidikan[i]\n",
    "        key = key.strip(' :').lower().replace(' ', '_').replace('-', '_')\n",
    "        if i == len(data_pendidikan)-1:\n",
    "            data_sekolah_kita[key] = None\n",
    "            continue\n",
    "\n",
    "        value = data_pendidikan[i+1]\n",
    "        if ':' in value:\n",
    "            value = None\n",
    "        data_sekolah_kita[key] = value\n",
    "        "
   ]
  },
  {
   "cell_type": "code",
   "execution_count": 180,
   "metadata": {},
   "outputs": [],
   "source": [
    "data_kurikulum = data_utama[1].get_text(\"~\",strip=True)\n",
    "data_kurikulum = data_kurikulum.split('~')\n",
    "\n",
    "for i in range(len(data_kurikulum)):\n",
    "    if ':' in data_kurikulum[i]:\n",
    "        if re.search(r\":$\", data_kurikulum[i]):\n",
    "            key = data_kurikulum[i]\n",
    "            key = key.strip(' :').lower().replace(' ', '_').replace('-', '_')\n",
    "            if i == len(data_kurikulum)-1:\n",
    "                data_sekolah_kita[key] = None\n",
    "                continue\n",
    "                \n",
    "            value = data_kurikulum[i+1]\n",
    "            if ':' in value:\n",
    "                value = None\n",
    "            data_sekolah_kita[key] = value\n",
    "        else:\n",
    "            key_value = data_kurikulum[i].split(':')\n",
    "            key = key_value[0]\n",
    "            key = key.strip().lower().replace(' ', '_').replace('-', '_')\n",
    "            value = key_value[1]\n",
    "            value = value.strip()\n",
    "            data_sekolah_kita[key] = value"
   ]
  },
  {
   "cell_type": "code",
   "execution_count": 182,
   "metadata": {},
   "outputs": [],
   "source": [
    "data_gedung = data_utama[2].get_text(\"~\",strip=True)\n",
    "data_gedung = data_gedung.split('~')\n",
    "\n",
    "for i in range(len(data_gedung)):\n",
    "    if ':' in data_gedung[i]:\n",
    "        if re.search(r\":$\", data_gedung[i]):\n",
    "            key = data_gedung[i]\n",
    "            key = key.strip(' :').lower().replace(' ', '_').replace('-', '_')\n",
    "            if i == len(data_gedung)-1:\n",
    "                data_sekolah_kita[key] = None\n",
    "                continue\n",
    "                \n",
    "            value = data_gedung[i+1]\n",
    "            if ':' in value:\n",
    "                value = None\n",
    "            data_sekolah_kita[key] = value\n",
    "        else:\n",
    "            key_value = data_gedung[i].split(':')\n",
    "            key = key_value[0]\n",
    "            key = key.strip().lower().replace(' ', '_').replace('-', '_')\n",
    "            value = key_value[1]\n",
    "            value = value.strip()\n",
    "            data_sekolah_kita[key] = value"
   ]
  },
  {
   "cell_type": "code",
   "execution_count": 186,
   "metadata": {},
   "outputs": [],
   "source": [
    "data_sarpras = data_utama[3].get_text(\"~\",strip=True)\n",
    "data_sarpras = data_sarpras.split('~')\n",
    "\n",
    "for i in range(len(data_sarpras)):\n",
    "    if data_sarpras[i] == '*':\n",
    "        continue\n",
    "    if ':' in data_sarpras[i]:\n",
    "        if re.search(r\":$\", data_sarpras[i]):\n",
    "            key = data_sarpras[i]\n",
    "            key = key.strip(' :').lower().replace(' ', '_').replace('-', '_')\n",
    "            if i == len(data_sarpras)-1:\n",
    "                data_sekolah_kita[key] = None\n",
    "                continue\n",
    "                \n",
    "            value = data_sarpras[i+1]\n",
    "            if ':' in value:\n",
    "                value = None\n",
    "            data_sekolah_kita[key] = value\n",
    "        else:\n",
    "            key_value = data_sarpras[i].split(':')\n",
    "            key = key_value[0]\n",
    "            key = key.strip().lower().replace(' ', '_').replace('-', '_')\n",
    "            value = key_value[1]\n",
    "            value = value.strip()\n",
    "            data_sekolah_kita[key] = value"
   ]
  },
  {
   "cell_type": "code",
   "execution_count": 197,
   "metadata": {},
   "outputs": [],
   "source": [
    "status_guru = soup.find('div', {'id': 'gurustatus'}).find_all('tr')[2:]\n",
    "for sg in status_guru:\n",
    "    key_value = sg.find_all('td')\n",
    "    key = 'guru_'+key_value[0].get_text(strip=True).lower()\n",
    "    value = key_value[1].get_text(strip=True)\n",
    "    data_sekolah_kita[key] = value"
   ]
  },
  {
   "cell_type": "code",
   "execution_count": 207,
   "metadata": {},
   "outputs": [],
   "source": [
    "golongan_guru = soup.find('div', {'id': 'gurugolongan'}).find_all('tr')\n",
    "key_data = golongan_guru[0].find_all('td')[:-1]\n",
    "value_data = golongan_guru[1].find_all('td')[:-1]\n",
    "\n",
    "for i in range(len(key_data)):\n",
    "    key = 'guru_gol_'+key_data[i].get_text(strip=True).lower()\n",
    "    value = value_data[i].get_text(strip=True)\n",
    "    data_sekolah_kita[key] = value"
   ]
  },
  {
   "cell_type": "code",
   "execution_count": 209,
   "metadata": {},
   "outputs": [],
   "source": [
    "sertifikasi_guru = soup.find('div', {'id': 'gurusertifikasi'}).find_all('tr')[2:]\n",
    "for sg in sertifikasi_guru:\n",
    "    key_value = sg.find_all('td')\n",
    "    key = 'guru_'+key_value[0].get_text(strip=True).lower().replace(' ', '_')\n",
    "    value = key_value[1].get_text(strip=True)\n",
    "    data_sekolah_kita[key] = value"
   ]
  },
  {
   "cell_type": "code",
   "execution_count": 211,
   "metadata": {},
   "outputs": [],
   "source": [
    "ijazah_guru = soup.find('div', {'id': 'guruijazah'}).find_all('tr')[2:]\n",
    "for sg in ijazah_guru:\n",
    "    key_value = sg.find_all('td')\n",
    "    key = 'guru_'+key_value[0].get_text(strip=True).lower().replace(' ', '_')\n",
    "    value = key_value[1].get_text(strip=True)\n",
    "    data_sekolah_kita[key] = value\n",
    "\n",
    "umur_guru = soup.find('div', {'id': 'guruumur'}).find_all('tr')[2:]\n",
    "for sg in umur_guru:\n",
    "    key_value = sg.find_all('td')\n",
    "    key = 'guru_'+key_value[0].get_text(strip=True).lower().replace(' - ', '_').replace(' ', '_')\n",
    "    value = key_value[1].get_text(strip=True)\n",
    "    data_sekolah_kita[key] = value\n",
    "\n",
    "jeniskelamin_guru = soup.find('div', {'id': 'gurujeniskelamin'}).find_all('tr')[2:]\n",
    "for sg in jeniskelamin_guru:\n",
    "    key_value = sg.find_all('td')\n",
    "    key = 'guru_'+key_value[0].get_text(strip=True).lower().replace('-', '_').replace(' ', '_')\n",
    "    value = key_value[1].get_text(strip=True)\n",
    "    data_sekolah_kita[key] = value"
   ]
  },
  {
   "cell_type": "code",
   "execution_count": 219,
   "metadata": {},
   "outputs": [],
   "source": [
    "rombel_data = soup.find('div', {'id': 'rombel'}).find_all('tr')[2:]\n",
    "for sg in rombel_data:\n",
    "    key_value = sg.find_all('td')\n",
    "    key = 'rombel_tingkat_'+key_value[0].get_text(strip=True).lower().replace(' ', '_')\n",
    "    value = key_value[1].get_text(strip=True)\n",
    "    data_sekolah_kita[key] = value"
   ]
  },
  {
   "cell_type": "code",
   "execution_count": 218,
   "metadata": {},
   "outputs": [
    {
     "data": {
      "text/plain": [
       "[<tr>\n",
       " <td>10</td>\n",
       " <td class=\"text-right\">311</td>\n",
       " </tr>,\n",
       " <tr>\n",
       " <td>11</td>\n",
       " <td class=\"text-right\">311</td>\n",
       " </tr>,\n",
       " <tr>\n",
       " <td>12</td>\n",
       " <td class=\"text-right\">295</td>\n",
       " </tr>]"
      ]
     },
     "execution_count": 218,
     "metadata": {},
     "output_type": "execute_result"
    }
   ],
   "source": [
    "rombel_data"
   ]
  },
  {
   "cell_type": "code",
   "execution_count": 220,
   "metadata": {},
   "outputs": [
    {
     "data": {
      "text/plain": [
       "{'akreditasi': 'A',\n",
       " 'guru': '66',\n",
       " 'siswa_laki_laki': '404',\n",
       " 'siswa_perempuan': '513',\n",
       " 'rombongan_belajar': '27',\n",
       " 'kurikulum': 'SMA 2013 MIPA',\n",
       " 'penyelenggaraan': 'Sehari Penuh/5 hari',\n",
       " 'manajemen_berbasis_sekolah': None,\n",
       " 'semester_data': '2022/2023-2',\n",
       " 'akses_internet': 'Tidak Ada',\n",
       " 'sumber_listrik': 'PLN',\n",
       " 'daya_listrik': '55,000',\n",
       " 'luas_tanah': '0',\n",
       " 'ruang_kelas': '26',\n",
       " 'laboratorium': '4',\n",
       " 'perpustakaan': '1',\n",
       " 'sanitasi_siswa': '6',\n",
       " 'guru_pns': '35',\n",
       " 'guru_gtt': '16',\n",
       " 'guru_gty': '2',\n",
       " 'guru_honor': '13',\n",
       " 'guru_gol_i': '35',\n",
       " 'guru_gol_ii': '0',\n",
       " 'guru_gol_iii': '20',\n",
       " 'guru_gol_iv': '11',\n",
       " 'guru_sertifikasi': '35',\n",
       " 'guru_belum_sertifikasi': '31',\n",
       " 'guru_kurang_dari_s1': '1',\n",
       " 'guru_s1_atau_lebih': '56',\n",
       " 'guru_data_kosong': '9',\n",
       " 'guru_kurang_dari_30_tahun': '13',\n",
       " 'guru_31_35_tahun': '9',\n",
       " 'guru_36_40': '3',\n",
       " 'guru_41_45_tahun': '6',\n",
       " 'guru_46_50_tahun': '4',\n",
       " 'guru_51_55_tahun': '10',\n",
       " 'guru_lebih_dari_55_tahun': '21',\n",
       " 'guru_laki_laki': '29',\n",
       " 'guru_perempuan': '37',\n",
       " 'rombel_tingkat_10': '9',\n",
       " 'rombel_tingkat_11': '9',\n",
       " 'rombel_tingkat_12': '9'}"
      ]
     },
     "execution_count": 220,
     "metadata": {},
     "output_type": "execute_result"
    }
   ],
   "source": [
    "data_sekolah_kita"
   ]
  },
  {
   "cell_type": "code",
   "execution_count": 214,
   "metadata": {},
   "outputs": [],
   "source": [
    "a = [1]"
   ]
  },
  {
   "cell_type": "code",
   "execution_count": 215,
   "metadata": {},
   "outputs": [
    {
     "data": {
      "text/plain": [
       "[]"
      ]
     },
     "execution_count": 215,
     "metadata": {},
     "output_type": "execute_result"
    }
   ],
   "source": [
    "a[2:]"
   ]
  },
  {
   "cell_type": "code",
   "execution_count": null,
   "metadata": {},
   "outputs": [],
   "source": []
  }
 ],
 "metadata": {
  "kernelspec": {
   "display_name": "pelatihan",
   "language": "python",
   "name": "python3"
  },
  "language_info": {
   "codemirror_mode": {
    "name": "ipython",
    "version": 3
   },
   "file_extension": ".py",
   "mimetype": "text/x-python",
   "name": "python",
   "nbconvert_exporter": "python",
   "pygments_lexer": "ipython3",
   "version": "3.10.9"
  },
  "orig_nbformat": 4
 },
 "nbformat": 4,
 "nbformat_minor": 2
}
