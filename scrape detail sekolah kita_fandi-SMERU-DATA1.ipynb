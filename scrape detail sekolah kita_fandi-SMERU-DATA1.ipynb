{
 "cells": [
  {
   "cell_type": "code",
   "execution_count": 1,
   "metadata": {},
   "outputs": [],
   "source": [
    "import pandas as pd\n",
    "from bs4 import BeautifulSoup\n",
    "import requests"
   ]
  },
  {
   "cell_type": "code",
   "execution_count": 16,
   "metadata": {},
   "outputs": [
    {
     "data": {
      "text/html": [
       "<div>\n",
       "<style scoped>\n",
       "    .dataframe tbody tr th:only-of-type {\n",
       "        vertical-align: middle;\n",
       "    }\n",
       "\n",
       "    .dataframe tbody tr th {\n",
       "        vertical-align: top;\n",
       "    }\n",
       "\n",
       "    .dataframe thead th {\n",
       "        text-align: right;\n",
       "    }\n",
       "</style>\n",
       "<table border=\"1\" class=\"dataframe\">\n",
       "  <thead>\n",
       "    <tr style=\"text-align: right;\">\n",
       "      <th></th>\n",
       "      <th>prov</th>\n",
       "      <th>kode_prov</th>\n",
       "      <th>kab</th>\n",
       "      <th>kode_kab</th>\n",
       "      <th>kec</th>\n",
       "      <th>kode_kec</th>\n",
       "    </tr>\n",
       "  </thead>\n",
       "  <tbody>\n",
       "    <tr>\n",
       "      <th>0</th>\n",
       "      <td>Prov. Jawa Timur</td>\n",
       "      <td>050000</td>\n",
       "      <td>Kota Surabaya</td>\n",
       "      <td>056000</td>\n",
       "      <td>Kec. Tambaksari</td>\n",
       "      <td>056020</td>\n",
       "    </tr>\n",
       "    <tr>\n",
       "      <th>1</th>\n",
       "      <td>Prov. Jawa Timur</td>\n",
       "      <td>050000</td>\n",
       "      <td>Kota Surabaya</td>\n",
       "      <td>056000</td>\n",
       "      <td>Kec. Wonokromo</td>\n",
       "      <td>056011</td>\n",
       "    </tr>\n",
       "    <tr>\n",
       "      <th>2</th>\n",
       "      <td>Prov. Jawa Timur</td>\n",
       "      <td>050000</td>\n",
       "      <td>Kota Surabaya</td>\n",
       "      <td>056000</td>\n",
       "      <td>Kec. Sawahan</td>\n",
       "      <td>056017</td>\n",
       "    </tr>\n",
       "    <tr>\n",
       "      <th>3</th>\n",
       "      <td>Prov. Jawa Timur</td>\n",
       "      <td>050000</td>\n",
       "      <td>Kota Surabaya</td>\n",
       "      <td>056000</td>\n",
       "      <td>Kec. Gubeng</td>\n",
       "      <td>056010</td>\n",
       "    </tr>\n",
       "    <tr>\n",
       "      <th>4</th>\n",
       "      <td>Prov. Jawa Timur</td>\n",
       "      <td>050000</td>\n",
       "      <td>Kota Surabaya</td>\n",
       "      <td>056000</td>\n",
       "      <td>Kec. Sukolilo</td>\n",
       "      <td>056008</td>\n",
       "    </tr>\n",
       "  </tbody>\n",
       "</table>\n",
       "</div>"
      ],
      "text/plain": [
       "               prov kode_prov            kab kode_kab              kec  \\\n",
       "0  Prov. Jawa Timur    050000  Kota Surabaya   056000  Kec. Tambaksari   \n",
       "1  Prov. Jawa Timur    050000  Kota Surabaya   056000   Kec. Wonokromo   \n",
       "2  Prov. Jawa Timur    050000  Kota Surabaya   056000     Kec. Sawahan   \n",
       "3  Prov. Jawa Timur    050000  Kota Surabaya   056000      Kec. Gubeng   \n",
       "4  Prov. Jawa Timur    050000  Kota Surabaya   056000    Kec. Sukolilo   \n",
       "\n",
       "  kode_kec  \n",
       "0   056020  \n",
       "1   056011  \n",
       "2   056017  \n",
       "3   056010  \n",
       "4   056008  "
      ]
     },
     "execution_count": 16,
     "metadata": {},
     "output_type": "execute_result"
    }
   ],
   "source": [
    "df_wilayah = pd.read_csv('data/wilayah_dapodik.csv')\n",
    "\n",
    "\n",
    "df_wilayah.kode_prov = '0' + df_wilayah.kode_prov.astype('str')\n",
    "df_wilayah.kode_kab = '0' + df_wilayah.kode_kab.astype('str')\n",
    "df_wilayah.kode_kec = '0' + df_wilayah.kode_kec.astype('str')\n",
    "\n",
    "df_wilayah.head()"
   ]
  },
  {
   "cell_type": "code",
   "execution_count": 18,
   "metadata": {},
   "outputs": [
    {
     "data": {
      "text/html": [
       "<div>\n",
       "<style scoped>\n",
       "    .dataframe tbody tr th:only-of-type {\n",
       "        vertical-align: middle;\n",
       "    }\n",
       "\n",
       "    .dataframe tbody tr th {\n",
       "        vertical-align: top;\n",
       "    }\n",
       "\n",
       "    .dataframe thead th {\n",
       "        text-align: right;\n",
       "    }\n",
       "</style>\n",
       "<table border=\"1\" class=\"dataframe\">\n",
       "  <thead>\n",
       "    <tr style=\"text-align: right;\">\n",
       "      <th></th>\n",
       "      <th>prov</th>\n",
       "      <th>kode_prov</th>\n",
       "      <th>kab</th>\n",
       "      <th>kode_kab</th>\n",
       "      <th>kec</th>\n",
       "      <th>kode_kec</th>\n",
       "    </tr>\n",
       "  </thead>\n",
       "  <tbody>\n",
       "    <tr>\n",
       "      <th>0</th>\n",
       "      <td>Prov. Jawa Timur</td>\n",
       "      <td>050000</td>\n",
       "      <td>Kota Surabaya</td>\n",
       "      <td>056000</td>\n",
       "      <td>Kec. Tambaksari</td>\n",
       "      <td>056020</td>\n",
       "    </tr>\n",
       "  </tbody>\n",
       "</table>\n",
       "</div>"
      ],
      "text/plain": [
       "               prov kode_prov            kab kode_kab              kec  \\\n",
       "0  Prov. Jawa Timur    050000  Kota Surabaya   056000  Kec. Tambaksari   \n",
       "\n",
       "  kode_kec  \n",
       "0   056020  "
      ]
     },
     "execution_count": 18,
     "metadata": {},
     "output_type": "execute_result"
    }
   ],
   "source": [
    "wilayah_sample = df_wilayah.head(1)\n",
    "wilayah_sample\n"
   ]
  },
  {
   "cell_type": "code",
   "execution_count": 20,
   "metadata": {},
   "outputs": [
    {
     "name": "stdout",
     "output_type": "stream",
     "text": [
      "Iterasi kec ke-1 dari 1\n",
      "Kec. Tambaksari\n"
     ]
    }
   ],
   "source": [
    "#url = 'https://dapo.kemdikbud.go.id/rekap/progresSP?id_level_wilayah=3&kode_wilayah=056020&semester_id=20222&bentuk_pendidikan_id='\n",
    "data_sekolah = []\n",
    "\n",
    "#contoh heula\n",
    "for i, wil in wilayah_sample.iterrows():\n",
    "    print(f'Iterasi kec ke-{i+1} dari {len(wilayah_sample)}')\n",
    "    print(wil['kec'])\n",
    "    url_sekolah =f'https://dapo.kemdikbud.go.id/rekap/progresSP?id_level_wilayah=3&kode_wilayah={wil[\"kode_kec\"]}&semester_id=20222&bentuk_pendidikan_id=sma'\n",
    "    r = requests.get(url_sekolah)\n",
    "    data_sekolah = r.json()\n"
   ]
  },
  {
   "cell_type": "code",
   "execution_count": 22,
   "metadata": {},
   "outputs": [
    {
     "data": {
      "text/plain": [
       "7"
      ]
     },
     "execution_count": 22,
     "metadata": {},
     "output_type": "execute_result"
    }
   ],
   "source": [
    "len(data_sekolah)"
   ]
  },
  {
   "cell_type": "code",
   "execution_count": 23,
   "metadata": {},
   "outputs": [
    {
     "data": {
      "text/plain": [
       "[{'nama': 'SMAN 4 SURABAYA',\n",
       "  'sekolah_id': 'F365CFA6-FF48-4F51-8AEB-B01218566978',\n",
       "  'npsn': 20532247,\n",
       "  'jumlah_kirim': 12,\n",
       "  'ptk': 51,\n",
       "  'pegawai': 15,\n",
       "  'pd': 917,\n",
       "  'rombel': 27,\n",
       "  'jml_rk': 26,\n",
       "  'jml_lab': 6,\n",
       "  'jml_perpus': 1,\n",
       "  'induk_kecamatan': 'Kec. Tambaksari',\n",
       "  'kode_wilayah_induk_kecamatan': '056020  ',\n",
       "  'induk_kabupaten': 'Kota Surabaya',\n",
       "  'kode_wilayah_induk_kabupaten': '056000  ',\n",
       "  'induk_provinsi': 'Prov. Jawa Timur',\n",
       "  'kode_wilayah_induk_provinsi': '050000  ',\n",
       "  'bentuk_pendidikan': 'SMA',\n",
       "  'status_sekolah': 'Negeri',\n",
       "  'sinkron_terakhir': '09 Mar 2023 10:31:12',\n",
       "  'sekolah_id_enkrip': '4B598318511C7F7E67CF                                                                                '},\n",
       " {'nama': 'SMA Kristen Anak Panah',\n",
       "  'sekolah_id': 'E1688B3E-4578-4C8F-BFE8-016A2C341933',\n",
       "  'npsn': 20532405,\n",
       "  'jumlah_kirim': 0,\n",
       "  'ptk': 6,\n",
       "  'pegawai': 2,\n",
       "  'pd': 0,\n",
       "  'rombel': 0,\n",
       "  'jml_rk': 0,\n",
       "  'jml_lab': 0,\n",
       "  'jml_perpus': 0,\n",
       "  'induk_kecamatan': 'Kec. Tambaksari',\n",
       "  'kode_wilayah_induk_kecamatan': '056020  ',\n",
       "  'induk_kabupaten': 'Kota Surabaya',\n",
       "  'kode_wilayah_induk_kabupaten': '056000  ',\n",
       "  'induk_provinsi': 'Prov. Jawa Timur',\n",
       "  'kode_wilayah_induk_provinsi': '050000  ',\n",
       "  'bentuk_pendidikan': 'SMA',\n",
       "  'status_sekolah': 'Swasta',\n",
       "  'sinkron_terakhir': '31 Dec 2022 21:05:18',\n",
       "  'sekolah_id_enkrip': '10902C8D9D694FA452B1                                                                                '},\n",
       " {'nama': 'SMAS KATOLIK SANTA AGNES',\n",
       "  'sekolah_id': '57936B89-5C40-445A-B730-9A7DEB4DC9DE',\n",
       "  'npsn': 20532138,\n",
       "  'jumlah_kirim': 11,\n",
       "  'ptk': 42,\n",
       "  'pegawai': 8,\n",
       "  'pd': 590,\n",
       "  'rombel': 21,\n",
       "  'jml_rk': 23,\n",
       "  'jml_lab': 6,\n",
       "  'jml_perpus': 1,\n",
       "  'induk_kecamatan': 'Kec. Tambaksari',\n",
       "  'kode_wilayah_induk_kecamatan': '056020  ',\n",
       "  'induk_kabupaten': 'Kota Surabaya',\n",
       "  'kode_wilayah_induk_kabupaten': '056000  ',\n",
       "  'induk_provinsi': 'Prov. Jawa Timur',\n",
       "  'kode_wilayah_induk_provinsi': '050000  ',\n",
       "  'bentuk_pendidikan': 'SMA',\n",
       "  'status_sekolah': 'Swasta',\n",
       "  'sinkron_terakhir': '13 Feb 2023 06:31:28',\n",
       "  'sekolah_id_enkrip': '199A67A9029DC0A221E2                                                                                '},\n",
       " {'nama': 'SMAS KATOLIK SANTO STANISLAUS',\n",
       "  'sekolah_id': '67E0B79E-7F63-454E-8176-85738498D0D7',\n",
       "  'npsn': 20532139,\n",
       "  'jumlah_kirim': 20,\n",
       "  'ptk': 14,\n",
       "  'pegawai': 7,\n",
       "  'pd': 263,\n",
       "  'rombel': 9,\n",
       "  'jml_rk': 10,\n",
       "  'jml_lab': 5,\n",
       "  'jml_perpus': 1,\n",
       "  'induk_kecamatan': 'Kec. Tambaksari',\n",
       "  'kode_wilayah_induk_kecamatan': '056020  ',\n",
       "  'induk_kabupaten': 'Kota Surabaya',\n",
       "  'kode_wilayah_induk_kabupaten': '056000  ',\n",
       "  'induk_provinsi': 'Prov. Jawa Timur',\n",
       "  'kode_wilayah_induk_provinsi': '050000  ',\n",
       "  'bentuk_pendidikan': 'SMA',\n",
       "  'status_sekolah': 'Swasta',\n",
       "  'sinkron_terakhir': '10 Mar 2023 07:32:59',\n",
       "  'sekolah_id_enkrip': 'D34CB5EFA9AD036E4BA9                                                                                '},\n",
       " {'nama': 'SMAS KRISTEN YBPK',\n",
       "  'sekolah_id': 'B68A4328-CA5F-4841-9A9F-9EA400007898',\n",
       "  'npsn': 20532152,\n",
       "  'jumlah_kirim': 6,\n",
       "  'ptk': 11,\n",
       "  'pegawai': 4,\n",
       "  'pd': 111,\n",
       "  'rombel': 6,\n",
       "  'jml_rk': 6,\n",
       "  'jml_lab': 6,\n",
       "  'jml_perpus': 1,\n",
       "  'induk_kecamatan': 'Kec. Tambaksari',\n",
       "  'kode_wilayah_induk_kecamatan': '056020  ',\n",
       "  'induk_kabupaten': 'Kota Surabaya',\n",
       "  'kode_wilayah_induk_kabupaten': '056000  ',\n",
       "  'induk_provinsi': 'Prov. Jawa Timur',\n",
       "  'kode_wilayah_induk_provinsi': '050000  ',\n",
       "  'bentuk_pendidikan': 'SMA',\n",
       "  'status_sekolah': 'Swasta',\n",
       "  'sinkron_terakhir': '10 Feb 2023 11:43:59',\n",
       "  'sekolah_id_enkrip': '3851CB8EACEBCF587EC0                                                                                '},\n",
       " {'nama': 'SMAS PGRI 3',\n",
       "  'sekolah_id': 'D70B5849-692E-4367-89F8-246FAE49A6C9',\n",
       "  'npsn': 20532104,\n",
       "  'jumlah_kirim': 12,\n",
       "  'ptk': 6,\n",
       "  'pegawai': 2,\n",
       "  'pd': 71,\n",
       "  'rombel': 5,\n",
       "  'jml_rk': 6,\n",
       "  'jml_lab': 2,\n",
       "  'jml_perpus': 1,\n",
       "  'induk_kecamatan': 'Kec. Tambaksari',\n",
       "  'kode_wilayah_induk_kecamatan': '056020  ',\n",
       "  'induk_kabupaten': 'Kota Surabaya',\n",
       "  'kode_wilayah_induk_kabupaten': '056000  ',\n",
       "  'induk_provinsi': 'Prov. Jawa Timur',\n",
       "  'kode_wilayah_induk_provinsi': '050000  ',\n",
       "  'bentuk_pendidikan': 'SMA',\n",
       "  'status_sekolah': 'Swasta',\n",
       "  'sinkron_terakhir': '12 Mar 2023 11:29:56',\n",
       "  'sekolah_id_enkrip': '41394DA84FECF3357344                                                                                '},\n",
       " {'nama': 'SMAS TRI TUNGGAL 1',\n",
       "  'sekolah_id': '14EA8F42-15E9-4C82-8391-D3636F3E674B',\n",
       "  'npsn': 20532128,\n",
       "  'jumlah_kirim': 3,\n",
       "  'ptk': 8,\n",
       "  'pegawai': 2,\n",
       "  'pd': 110,\n",
       "  'rombel': 4,\n",
       "  'jml_rk': 6,\n",
       "  'jml_lab': 5,\n",
       "  'jml_perpus': 1,\n",
       "  'induk_kecamatan': 'Kec. Tambaksari',\n",
       "  'kode_wilayah_induk_kecamatan': '056020  ',\n",
       "  'induk_kabupaten': 'Kota Surabaya',\n",
       "  'kode_wilayah_induk_kabupaten': '056000  ',\n",
       "  'induk_provinsi': 'Prov. Jawa Timur',\n",
       "  'kode_wilayah_induk_provinsi': '050000  ',\n",
       "  'bentuk_pendidikan': 'SMA',\n",
       "  'status_sekolah': 'Swasta',\n",
       "  'sinkron_terakhir': '06 Feb 2023 10:32:26',\n",
       "  'sekolah_id_enkrip': 'B10A25B61CBA2C0B1B76                                                                                '}]"
      ]
     },
     "execution_count": 23,
     "metadata": {},
     "output_type": "execute_result"
    }
   ],
   "source": [
    "data_sekolah"
   ]
  },
  {
   "cell_type": "code",
   "execution_count": 25,
   "metadata": {},
   "outputs": [],
   "source": [
    "# https://dapo.kemdikbud.go.id/rekap/sekolahDetail?semester_id=20222&sekolah_id=E39CEEF0F710444E3432\n",
    "\n",
    "# for sekolah in data_sekolah:\n",
    "#     url_json = f'https://dapo.kemdikbud.go.id/rekap/sekolahDetail?semester_id=20222&sekolah_id={sekolah[0][\"sekolah_id_enkrip\"]}'\n",
    "#     url_html = f'https://dapo.kemdikbud.go.id/sekolah/{sekolah[0][\"sekolah_id_enkrip\"]}'\n",
    "\n",
    "url_json = f'https://dapo.kemdikbud.go.id/rekap/sekolahDetail?semester_id=20222&sekolah_id={data_sekolah[0][\"sekolah_id_enkrip\"]}'\n",
    "url_html = f'https://dapo.kemdikbud.go.id/sekolah/{data_sekolah[0][\"sekolah_id_enkrip\"]}'\n",
    "\n",
    "r_json = requests.get(url_json)\n",
    "r_html = requests.get(url_html)"
   ]
  },
  {
   "cell_type": "code",
   "execution_count": 26,
   "metadata": {},
   "outputs": [],
   "source": [
    "json_data = r_json.json()"
   ]
  },
  {
   "cell_type": "code",
   "execution_count": 106,
   "metadata": {},
   "outputs": [
    {
     "data": {
      "text/plain": [
       "{'rombel': 27,\n",
       " 'guru_kelas': 0,\n",
       " 'guru_matematika': 10,\n",
       " 'guru_bahasa_indonesia': 5,\n",
       " 'guru_bahasa_inggris': 3,\n",
       " 'guru_sejarah_indonesia': 2,\n",
       " 'guru_pkn': 3,\n",
       " 'guru_penjaskes': 4,\n",
       " 'guru_agama_budi_pekerti': 6,\n",
       " 'guru_seni_budaya': 3,\n",
       " 'ptk_laki': 20,\n",
       " 'ptk_perempuan': 31,\n",
       " 'pegawai_laki': 8,\n",
       " 'pegawai_perempuan': 7,\n",
       " 'pd_kelas_1_laki': 0,\n",
       " 'pd_kelas_1_perempuan': 0,\n",
       " 'pd_kelas_2_laki': 0,\n",
       " 'pd_kelas_2_perempuan': 0,\n",
       " 'pd_kelas_3_laki': 0,\n",
       " 'pd_kelas_3_perempuan': 0,\n",
       " 'pd_kelas_4_laki': 0,\n",
       " 'pd_kelas_4_perempuan': 0,\n",
       " 'pd_kelas_5_laki': 0,\n",
       " 'pd_kelas_5_perempuan': 0,\n",
       " 'pd_kelas_6_laki': 0,\n",
       " 'pd_kelas_6_perempuan': 0,\n",
       " 'pd_kelas_7_laki': 0,\n",
       " 'pd_kelas_7_perempuan': 0,\n",
       " 'pd_kelas_8_laki': 0,\n",
       " 'pd_kelas_8_perempuan': 0,\n",
       " 'pd_kelas_9_laki': 0,\n",
       " 'pd_kelas_9_perempuan': 0,\n",
       " 'pd_kelas_10_laki': 155,\n",
       " 'pd_kelas_10_perempuan': 156,\n",
       " 'pd_kelas_11_laki': 133,\n",
       " 'pd_kelas_11_perempuan': 178,\n",
       " 'pd_kelas_12_laki': 116,\n",
       " 'pd_kelas_12_perempuan': 179,\n",
       " 'pd_kelas_13_laki': 0,\n",
       " 'pd_kelas_13_perempuan': 0,\n",
       " 'jumlah_kirim': 12,\n",
       " 'ptk': 51,\n",
       " 'pegawai': 15,\n",
       " 'pd': 917,\n",
       " 'pd_laki': 404,\n",
       " 'pd_perempuan': 513,\n",
       " 'before_ruang_kelas': 28,\n",
       " 'after_ruang_kelas': 26,\n",
       " 'before_ruang_perpus': 1,\n",
       " 'after_ruang_perpus': 1,\n",
       " 'before_ruang_lab': 6,\n",
       " 'after_ruang_lab': 6,\n",
       " 'before_ruang_praktik': 0,\n",
       " 'after_ruang_praktik': 0,\n",
       " 'before_ruang_pimpinan': 1,\n",
       " 'after_ruang_pimpinan': 1,\n",
       " 'before_ruang_guru': 1,\n",
       " 'after_ruang_guru': 1,\n",
       " 'before_ruang_ibadah': 1,\n",
       " 'after_ruang_ibadah': 1,\n",
       " 'before_ruang_uks': 0,\n",
       " 'after_ruang_uks': 0,\n",
       " 'before_toilet': 13,\n",
       " 'after_toilet': 13,\n",
       " 'before_gudang': 1,\n",
       " 'after_gudang': 2,\n",
       " 'before_ruang_sirkulasi': 0,\n",
       " 'after_ruang_sirkulasi': 1,\n",
       " 'before_tempat_bermain_olahraga': 0,\n",
       " 'after_tempat_bermain_olahraga': 1,\n",
       " 'before_ruang_tu': 1,\n",
       " 'after_ruang_tu': 1,\n",
       " 'before_ruang_konseling': 1,\n",
       " 'after_ruang_konseling': 1,\n",
       " 'before_ruang_osis': 1,\n",
       " 'after_ruang_osis': 1,\n",
       " 'before_bangunan': 16,\n",
       " 'after_bangunan': 17,\n",
       " 'identitas_valid': None,\n",
       " 'ptk_valid': None,\n",
       " 'pd_valid': None,\n",
       " 'prasarana_valid': None,\n",
       " 'total_valid': None,\n",
       " 'sekolah_id': None,\n",
       " 'semester_id': None,\n",
       " 'sumber_air': None,\n",
       " 'sumber_air_minum': None,\n",
       " 'kecukupan_air_bersih': None,\n",
       " 'jamban_kk': None,\n",
       " 'tipe_jamban': None,\n",
       " 'jml_hari_cuci_tangan': None,\n",
       " 'jml_wastafel': None,\n",
       " 'jml_wastafel_rusak': None,\n",
       " 'air_mengalir_wastafel': None,\n",
       " 'memiliki_drainase': None,\n",
       " 'menguras_tangki_septik': None}"
      ]
     },
     "execution_count": 106,
     "metadata": {},
     "output_type": "execute_result"
    }
   ],
   "source": [
    "json_data"
   ]
  },
  {
   "cell_type": "code",
   "execution_count": 112,
   "metadata": {},
   "outputs": [],
   "source": [
    "data = {}"
   ]
  },
  {
   "cell_type": "code",
   "execution_count": 113,
   "metadata": {},
   "outputs": [],
   "source": [
    "html_soup = BeautifulSoup(r_html.content, 'html.parser')\n",
    "data['nama'] = html_soup.find('h2', {'class':'name'}).get_text(strip=True)"
   ]
  },
  {
   "cell_type": "code",
   "execution_count": 114,
   "metadata": {},
   "outputs": [],
   "source": [
    "akreditasi = html_soup.find('div' , {'class':'profile-usermenu'}).find_all('a')[2].get_text(strip=True)\n",
    "data['akreditasi'] = akreditasi.split(':')[1]\n",
    "kurikulum = html_soup.find('div' , {'class':'profile-usermenu'}).find_all('a')[3].get_text(strip=True)\n",
    "data['kurikulum'] = kurikulum.split(':')[1]"
   ]
  },
  {
   "cell_type": "code",
   "execution_count": 115,
   "metadata": {},
   "outputs": [],
   "source": [
    "link_sekolah_kita = html_soup.find_all('div', {'class' : 'profile-userbuttons'})[0].find('a')['href']\n",
    "data['link_sekolah_kita'] = link_sekolah_kita"
   ]
  },
  {
   "cell_type": "code",
   "execution_count": 116,
   "metadata": {},
   "outputs": [],
   "source": [
    "data_utama = html_soup.find_all('div', {'class' : 'panel panel-info'})"
   ]
  },
  {
   "cell_type": "code",
   "execution_count": 117,
   "metadata": {},
   "outputs": [
    {
     "data": {
      "text/plain": [
       "'Identitas Sekolah'"
      ]
     },
     "execution_count": 117,
     "metadata": {},
     "output_type": "execute_result"
    }
   ],
   "source": [
    "data_utama[0].find('div', {'class' : 'panel-heading'}).get_text()"
   ]
  },
  {
   "cell_type": "code",
   "execution_count": 118,
   "metadata": {},
   "outputs": [],
   "source": [
    "data_identitas = data_utama[0]\n",
    "data_pelengkap = data_utama[1]\n",
    "data_rinci = data_utama[2]\n",
    "data_kontak = data_utama[7]\n"
   ]
  },
  {
   "cell_type": "code",
   "execution_count": 119,
   "metadata": {},
   "outputs": [],
   "source": [
    "for identitas in data_identitas.find_all('p'):\n",
    "    text = identitas.get_text()\n",
    "    if text.split(':')[1].strip() == '' or text.split(':')[1].strip() == '-':\n",
    "        value = None\n",
    "    else:\n",
    "        value = text.split(':')[1].strip()\n",
    "    data[text.split(':')[0].lower().strip().replace(' ', '_')] = value\n",
    "\n",
    "\n",
    "for pelengkap in data_pelengkap.find_all('p'):\n",
    "    text = pelengkap.get_text()\n",
    "    if text.split(':')[1].strip() == '' or text.split(':')[1].strip() == '-':\n",
    "        value = None\n",
    "    else:\n",
    "        value = text.split(':')[1].strip()\n",
    "    data[text.split(':')[0].lower().strip().replace(' ', '_')] = value\n",
    "\n",
    "\n",
    "for rinci in data_rinci.find_all('p'):\n",
    "    text = rinci.get_text()\n",
    "    if text.split(':')[1].strip() == '' or text.split(':')[1].strip() == '-':\n",
    "        value = None\n",
    "    else:\n",
    "        value = text.split(':')[1].strip()\n",
    "    data[text.split(':')[0].lower().strip().replace(' ', '_')] = value\n",
    "\n",
    "\n",
    "for kontak in data_kontak.find_all('p'):\n",
    "    text = kontak.get_text()\n",
    "    if text.split(':')[1].strip() == '' or text.split(':')[1].strip() == '-':\n",
    "        value = None\n",
    "    else:\n",
    "        value = text.split(':')[1].strip()\n",
    "    data[text.split(':')[0].lower().strip().replace(' ', '_')] = value\n"
   ]
  },
  {
   "cell_type": "code",
   "execution_count": 120,
   "metadata": {},
   "outputs": [
    {
     "data": {
      "text/plain": [
       "{'nama': 'SMAN 4 SURABAYA',\n",
       " 'akreditasi': 'A',\n",
       " 'kurikulum': 'Kurikulum 2013',\n",
       " 'link_sekolah_kita': 'http://sekolah.data.kemdikbud.go.id/index.php/chome/profil/f365cfa6-ff48-4f51-8aeb-b01218566978',\n",
       " 'npsn': '20532247',\n",
       " 'status': 'Negeri',\n",
       " 'bentuk_pendidikan': 'SMA',\n",
       " 'status_kepemilikan': 'Pemerintah Daerah',\n",
       " 'sk_pendirian_sekolah': '632983/65',\n",
       " 'tanggal_sk_pendirian': '1900-01-01',\n",
       " 'sk_izin_operasional': None,\n",
       " 'tanggal_sk_izin_operasional': None,\n",
       " 'kebutuhan_khusus_dilayani': 'Tidak ada',\n",
       " 'nama_bank': 'BPD JAWA TIMUR...',\n",
       " 'cabang_kcp/unit': 'BPD JAWA TIMUR CABANG DR. SUTOMO...',\n",
       " 'rekening_atas_nama': 'BOSSMAN4SURABAYA...',\n",
       " 'status_bos': 'Bersedia Menerima',\n",
       " 'waku_penyelenggaraan': 'Sehari penuh (5 h/m)',\n",
       " 'sertifikasi_iso': 'Belum Bersertifikat',\n",
       " 'sumber_listrik': 'PLN',\n",
       " 'daya_listrik': '55000',\n",
       " 'akses_internet': 'Telkomsel Flash',\n",
       " 'alamat': 'JL. Mayjen Prof. DR. Moestopo No. 04',\n",
       " 'rt_/_rw': '3 / 8',\n",
       " 'dusun': None,\n",
       " 'desa_/_kelurahan': 'Pacar Keling',\n",
       " 'kecamatan': 'Kec. Tambaksari',\n",
       " 'kabupaten': 'Kota Surabaya',\n",
       " 'provinsi': 'Prov. Jawa Timur',\n",
       " 'kode_pos': '60131',\n",
       " 'lintang': '-7',\n",
       " 'bujur': '112'}"
      ]
     },
     "execution_count": 120,
     "metadata": {},
     "output_type": "execute_result"
    }
   ],
   "source": [
    "data"
   ]
  },
  {
   "cell_type": "code",
   "execution_count": 121,
   "metadata": {},
   "outputs": [],
   "source": [
    "data_dapodik = {**data, **json_data}"
   ]
  },
  {
   "cell_type": "code",
   "execution_count": 122,
   "metadata": {},
   "outputs": [
    {
     "data": {
      "text/plain": [
       "{'nama': 'SMAN 4 SURABAYA',\n",
       " 'akreditasi': 'A',\n",
       " 'kurikulum': 'Kurikulum 2013',\n",
       " 'link_sekolah_kita': 'http://sekolah.data.kemdikbud.go.id/index.php/chome/profil/f365cfa6-ff48-4f51-8aeb-b01218566978',\n",
       " 'npsn': '20532247',\n",
       " 'status': 'Negeri',\n",
       " 'bentuk_pendidikan': 'SMA',\n",
       " 'status_kepemilikan': 'Pemerintah Daerah',\n",
       " 'sk_pendirian_sekolah': '632983/65',\n",
       " 'tanggal_sk_pendirian': '1900-01-01',\n",
       " 'sk_izin_operasional': None,\n",
       " 'tanggal_sk_izin_operasional': None,\n",
       " 'kebutuhan_khusus_dilayani': 'Tidak ada',\n",
       " 'nama_bank': 'BPD JAWA TIMUR...',\n",
       " 'cabang_kcp/unit': 'BPD JAWA TIMUR CABANG DR. SUTOMO...',\n",
       " 'rekening_atas_nama': 'BOSSMAN4SURABAYA...',\n",
       " 'status_bos': 'Bersedia Menerima',\n",
       " 'waku_penyelenggaraan': 'Sehari penuh (5 h/m)',\n",
       " 'sertifikasi_iso': 'Belum Bersertifikat',\n",
       " 'sumber_listrik': 'PLN',\n",
       " 'daya_listrik': '55000',\n",
       " 'akses_internet': 'Telkomsel Flash',\n",
       " 'alamat': 'JL. Mayjen Prof. DR. Moestopo No. 04',\n",
       " 'rt_/_rw': '3 / 8',\n",
       " 'dusun': None,\n",
       " 'desa_/_kelurahan': 'Pacar Keling',\n",
       " 'kecamatan': 'Kec. Tambaksari',\n",
       " 'kabupaten': 'Kota Surabaya',\n",
       " 'provinsi': 'Prov. Jawa Timur',\n",
       " 'kode_pos': '60131',\n",
       " 'lintang': '-7',\n",
       " 'bujur': '112',\n",
       " 'rombel': 27,\n",
       " 'guru_kelas': 0,\n",
       " 'guru_matematika': 10,\n",
       " 'guru_bahasa_indonesia': 5,\n",
       " 'guru_bahasa_inggris': 3,\n",
       " 'guru_sejarah_indonesia': 2,\n",
       " 'guru_pkn': 3,\n",
       " 'guru_penjaskes': 4,\n",
       " 'guru_agama_budi_pekerti': 6,\n",
       " 'guru_seni_budaya': 3,\n",
       " 'ptk_laki': 20,\n",
       " 'ptk_perempuan': 31,\n",
       " 'pegawai_laki': 8,\n",
       " 'pegawai_perempuan': 7,\n",
       " 'pd_kelas_1_laki': 0,\n",
       " 'pd_kelas_1_perempuan': 0,\n",
       " 'pd_kelas_2_laki': 0,\n",
       " 'pd_kelas_2_perempuan': 0,\n",
       " 'pd_kelas_3_laki': 0,\n",
       " 'pd_kelas_3_perempuan': 0,\n",
       " 'pd_kelas_4_laki': 0,\n",
       " 'pd_kelas_4_perempuan': 0,\n",
       " 'pd_kelas_5_laki': 0,\n",
       " 'pd_kelas_5_perempuan': 0,\n",
       " 'pd_kelas_6_laki': 0,\n",
       " 'pd_kelas_6_perempuan': 0,\n",
       " 'pd_kelas_7_laki': 0,\n",
       " 'pd_kelas_7_perempuan': 0,\n",
       " 'pd_kelas_8_laki': 0,\n",
       " 'pd_kelas_8_perempuan': 0,\n",
       " 'pd_kelas_9_laki': 0,\n",
       " 'pd_kelas_9_perempuan': 0,\n",
       " 'pd_kelas_10_laki': 155,\n",
       " 'pd_kelas_10_perempuan': 156,\n",
       " 'pd_kelas_11_laki': 133,\n",
       " 'pd_kelas_11_perempuan': 178,\n",
       " 'pd_kelas_12_laki': 116,\n",
       " 'pd_kelas_12_perempuan': 179,\n",
       " 'pd_kelas_13_laki': 0,\n",
       " 'pd_kelas_13_perempuan': 0,\n",
       " 'jumlah_kirim': 12,\n",
       " 'ptk': 51,\n",
       " 'pegawai': 15,\n",
       " 'pd': 917,\n",
       " 'pd_laki': 404,\n",
       " 'pd_perempuan': 513,\n",
       " 'before_ruang_kelas': 28,\n",
       " 'after_ruang_kelas': 26,\n",
       " 'before_ruang_perpus': 1,\n",
       " 'after_ruang_perpus': 1,\n",
       " 'before_ruang_lab': 6,\n",
       " 'after_ruang_lab': 6,\n",
       " 'before_ruang_praktik': 0,\n",
       " 'after_ruang_praktik': 0,\n",
       " 'before_ruang_pimpinan': 1,\n",
       " 'after_ruang_pimpinan': 1,\n",
       " 'before_ruang_guru': 1,\n",
       " 'after_ruang_guru': 1,\n",
       " 'before_ruang_ibadah': 1,\n",
       " 'after_ruang_ibadah': 1,\n",
       " 'before_ruang_uks': 0,\n",
       " 'after_ruang_uks': 0,\n",
       " 'before_toilet': 13,\n",
       " 'after_toilet': 13,\n",
       " 'before_gudang': 1,\n",
       " 'after_gudang': 2,\n",
       " 'before_ruang_sirkulasi': 0,\n",
       " 'after_ruang_sirkulasi': 1,\n",
       " 'before_tempat_bermain_olahraga': 0,\n",
       " 'after_tempat_bermain_olahraga': 1,\n",
       " 'before_ruang_tu': 1,\n",
       " 'after_ruang_tu': 1,\n",
       " 'before_ruang_konseling': 1,\n",
       " 'after_ruang_konseling': 1,\n",
       " 'before_ruang_osis': 1,\n",
       " 'after_ruang_osis': 1,\n",
       " 'before_bangunan': 16,\n",
       " 'after_bangunan': 17,\n",
       " 'identitas_valid': None,\n",
       " 'ptk_valid': None,\n",
       " 'pd_valid': None,\n",
       " 'prasarana_valid': None,\n",
       " 'total_valid': None,\n",
       " 'sekolah_id': None,\n",
       " 'semester_id': None,\n",
       " 'sumber_air': None,\n",
       " 'sumber_air_minum': None,\n",
       " 'kecukupan_air_bersih': None,\n",
       " 'jamban_kk': None,\n",
       " 'tipe_jamban': None,\n",
       " 'jml_hari_cuci_tangan': None,\n",
       " 'jml_wastafel': None,\n",
       " 'jml_wastafel_rusak': None,\n",
       " 'air_mengalir_wastafel': None,\n",
       " 'memiliki_drainase': None,\n",
       " 'menguras_tangki_septik': None}"
      ]
     },
     "execution_count": 122,
     "metadata": {},
     "output_type": "execute_result"
    }
   ],
   "source": [
    "data_dapodik"
   ]
  },
  {
   "cell_type": "code",
   "execution_count": 156,
   "metadata": {},
   "outputs": [],
   "source": [
    "r = requests.get(data_dapodik['link_sekolah_kita'])\n",
    "soup = BeautifulSoup(r.content, 'html.parser')\n",
    "data_sekolah_kita = {}"
   ]
  },
  {
   "cell_type": "code",
   "execution_count": 157,
   "metadata": {},
   "outputs": [],
   "source": [
    "akreditasi = soup.find('div', {'class' : 'box-body box-profile'}).find_all('li')[1].get_text(strip=True)\n",
    "data_sekolah_kita['akreditasi'] = akreditasi.split(':')[1]"
   ]
  },
  {
   "cell_type": "code",
   "execution_count": 158,
   "metadata": {},
   "outputs": [],
   "source": [
    "data_utama = soup.find_all('div', {'class' : 'col-xs-12 col-md-3 text-left'})"
   ]
  },
  {
   "cell_type": "code",
   "execution_count": 162,
   "metadata": {},
   "outputs": [],
   "source": [
    "kolom_1 = data_utama[0].get_text(\"~\", strip=True)\n",
    "kolom_1.split('~')\n",
    "\n",
    "for i in range(len(kolom_1)):\n",
    "    if ':' in kolom_1[i]:\n",
    "        key =  kolom_1[i]\n",
    "        key = key.strip(' :').lower().replace(' ', '_').replace('-', '_')\n",
    "        \n",
    "        if i == len(kolom_1)-1:\n",
    "            data_sekolah_kita[key] = None\n",
    "            continue\n",
    "        value =  kolom_1[i+1]\n",
    "        if ':' in value:\n",
    "            value = None\n",
    "        data_sekolah_kita[key] = value"
   ]
  },
  {
   "cell_type": "code",
   "execution_count": 163,
   "metadata": {},
   "outputs": [
    {
     "data": {
      "text/plain": [
       "{'akreditasi': ' A', '': '~'}"
      ]
     },
     "execution_count": 163,
     "metadata": {},
     "output_type": "execute_result"
    }
   ],
   "source": [
    "data_sekolah_kita"
   ]
  },
  {
   "cell_type": "code",
   "execution_count": null,
   "metadata": {},
   "outputs": [],
   "source": []
  }
 ],
 "metadata": {
  "kernelspec": {
   "display_name": "pelatihan",
   "language": "python",
   "name": "python3"
  },
  "language_info": {
   "codemirror_mode": {
    "name": "ipython",
    "version": 3
   },
   "file_extension": ".py",
   "mimetype": "text/x-python",
   "name": "python",
   "nbconvert_exporter": "python",
   "pygments_lexer": "ipython3",
   "version": "3.10.9"
  },
  "orig_nbformat": 4
 },
 "nbformat": 4,
 "nbformat_minor": 2
}
